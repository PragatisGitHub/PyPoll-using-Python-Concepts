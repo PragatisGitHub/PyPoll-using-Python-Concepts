{
 "cells": [
  {
   "cell_type": "markdown",
   "metadata": {},
   "source": [
    "## PyPoll\n",
    "\n",
    "![Vote-Counting](Images/Vote_counting.jpg)\n",
    "\n",
    "In this challenge, you are tasked with helping a small, rural town modernize its vote-counting process. (Up until now, Uncle Cleetus had been trustfully tallying them one-by-one, but unfortunately, his concentration isn't what it used to be.)\n",
    "\n",
    "You will be given two sets of poll data (`election_data_1.csv` and `election_data_2.csv`). Each dataset is composed of three columns: `Voter ID`, `County`, and `Candidate`. Your task is to create a Python script that analyzes the votes and calculates each of the following:\n",
    "\n",
    "* The total number of votes cast\n",
    "\n",
    "* A complete list of candidates who received votes\n",
    "\n",
    "* The percentage of votes each candidate won\n",
    "\n",
    "* The total number of votes each candidate won\n",
    "\n",
    "* The winner of the election based on popular vote.\n",
    "\n",
    "As an example, your analysis should look similar to the one below:\n",
    "\n",
    "```\n",
    "Election Results\n",
    "-------------------------\n",
    "Total Votes: 620100\n",
    "-------------------------\n",
    "Rogers: 36.0% (223236)\n",
    "Gomez: 54.0% (334854)\n",
    "Brentwood: 4.0% (24804)\n",
    "Higgins: 6.0% (37206)\n",
    "-------------------------\n",
    "Winner: Gomez\n",
    "-------------------------\n",
    "```\n",
    "\n",
    "Your final script must be able to handle any such similarly-structured dataset in the future (i.e you have zero intentions of living in this hillbilly town -- so your script needs to work without massive re-writes). In addition, your final script should both print the analysis to the terminal and export a text file with the results.\n"
   ]
  },
  {
   "cell_type": "code",
   "execution_count": 1,
   "metadata": {},
   "outputs": [],
   "source": [
    "import csv\n",
    "import os"
   ]
  },
  {
   "cell_type": "code",
   "execution_count": 2,
   "metadata": {},
   "outputs": [],
   "source": [
    "# https://www.techbeamers.com/merge-multiple-csv-files/"
   ]
  },
  {
   "cell_type": "code",
   "execution_count": 3,
   "metadata": {},
   "outputs": [
    {
     "data": {
      "text/plain": [
       "'raw_data\\\\election_data_1.csv'"
      ]
     },
     "execution_count": 3,
     "metadata": {},
     "output_type": "execute_result"
    }
   ],
   "source": [
    "input_file_path = os.path.join(\"raw_data\",\"election_data_1.csv\")\n",
    "input_file_path "
   ]
  },
  {
   "cell_type": "code",
   "execution_count": 19,
   "metadata": {},
   "outputs": [],
   "source": [
    "output_text_file_path = os.path.join(\"Output\",\"Poll_Results.txt\")"
   ]
  },
  {
   "cell_type": "code",
   "execution_count": 4,
   "metadata": {},
   "outputs": [],
   "source": [
    "Candidates = {}\n",
    "Count = 0\n",
    "Total_votes_cast = 0\n",
    "with open(input_file_path) as csvhandle:\n",
    "    csvdata = csv.reader(csvhandle, delimiter=',')\n",
    "    next(csvhandle)\n",
    "    for row in csvdata:\n",
    "        if row[2] not in Candidates:\n",
    "            Candidates[row[2]]=0\n",
    "            Candidates[row[2]] = Count + 1\n",
    "        else:\n",
    "            Candidates[row[2]] +=1\n",
    "        Total_votes_cast +=1    "
   ]
  },
  {
   "cell_type": "code",
   "execution_count": 5,
   "metadata": {},
   "outputs": [
    {
     "name": "stdout",
     "output_type": "stream",
     "text": [
      "{'Vestal': 385440, 'Torres': 353320, 'Seth': 40150, 'Cordin': 24090}\n"
     ]
    }
   ],
   "source": [
    "print(Candidates)                       "
   ]
  },
  {
   "cell_type": "code",
   "execution_count": 6,
   "metadata": {},
   "outputs": [
    {
     "name": "stdout",
     "output_type": "stream",
     "text": [
      "Total number votes casted 803000\n"
     ]
    }
   ],
   "source": [
    "print(f'Total number votes casted {Total_votes_cast}')"
   ]
  },
  {
   "cell_type": "code",
   "execution_count": 7,
   "metadata": {},
   "outputs": [
    {
     "name": "stdout",
     "output_type": "stream",
     "text": [
      "Vestal : 48.0% (385440)\n",
      "Torres : 44.0% (353320)\n",
      "Seth : 5.0% (40150)\n",
      "Cordin : 3.0% (24090)\n"
     ]
    }
   ],
   "source": [
    "for key,value in Candidates.items():\n",
    "#     print(key,value)\n",
    "#     print(f'{key} has received {value} votes')\n",
    "    print(f'{key} : {value/Total_votes_cast*100}% ({value})')"
   ]
  },
  {
   "cell_type": "code",
   "execution_count": 8,
   "metadata": {},
   "outputs": [
    {
     "data": {
      "text/plain": [
       "385440"
      ]
     },
     "execution_count": 8,
     "metadata": {},
     "output_type": "execute_result"
    }
   ],
   "source": [
    "max(Candidates.values())"
   ]
  },
  {
   "cell_type": "code",
   "execution_count": 9,
   "metadata": {},
   "outputs": [
    {
     "data": {
      "text/plain": [
       "('Vestal', 385440)"
      ]
     },
     "execution_count": 9,
     "metadata": {},
     "output_type": "execute_result"
    }
   ],
   "source": [
    "max(Candidates.items())"
   ]
  },
  {
   "cell_type": "code",
   "execution_count": 13,
   "metadata": {},
   "outputs": [
    {
     "name": "stdout",
     "output_type": "stream",
     "text": [
      "Winner: Vestal\n"
     ]
    }
   ],
   "source": [
    "print(f'Winner: {max(Candidates.items(),key=lambda k:k[0])[0]}')"
   ]
  },
  {
   "cell_type": "code",
   "execution_count": 18,
   "metadata": {},
   "outputs": [
    {
     "name": "stdout",
     "output_type": "stream",
     "text": [
      "Election Results\n",
      "******************************\n",
      "Total votes: 803000\n",
      "******************************\n",
      "Vestal : 48.0% (385440)\n",
      "Torres : 44.0% (353320)\n",
      "Seth : 5.0% (40150)\n",
      "Cordin : 3.0% (24090)\n",
      "******************************\n",
      "Winner: Vestal\n",
      "******************************\n"
     ]
    }
   ],
   "source": [
    "#Printing the analysis on terminal\n",
    "print(\"Election Results\")\n",
    "print('*'*30)\n",
    "print(f'Total votes: {Total_votes_cast}')\n",
    "print('*'*30)\n",
    "for key,value in Candidates.items():\n",
    "    print(f'{key} : {value/Total_votes_cast*100}% ({value})')\n",
    "print('*'*30)  \n",
    "print(f'Winner: {max(Candidates.items(),key=lambda k:k[0])[0]}')\n",
    "print('*'*30)  "
   ]
  },
  {
   "cell_type": "code",
   "execution_count": 32,
   "metadata": {},
   "outputs": [],
   "source": [
    "#Writing to a text file\n",
    "with open(output_text_file_path,'w') as texthandler:\n",
    "    texthandler.write(\"Election Results \\n\")\n",
    "    texthandler.write(f\"{'*'*30}\\n\")\n",
    "    texthandler.write(f'Total votes: {Total_votes_cast}\\n')\n",
    "    texthandler.write(f\"{'*'*30}\\n\")\n",
    "    for key,value in Candidates.items():\n",
    "        texthandler.write(f'{key} : {value/Total_votes_cast*100}% ({value})\\n')\n",
    "    texthandler.write(f\"{'*'*30}\\n\")\n",
    "    texthandler.write(f'Winner: {max(Candidates.items(),key=lambda k:k[0])[0]}\\n')\n",
    "    texthandler.write(f\"{'*'*30}\\n\")"
   ]
  },
  {
   "cell_type": "code",
   "execution_count": null,
   "metadata": {},
   "outputs": [],
   "source": []
  }
 ],
 "metadata": {
  "kernelspec": {
   "display_name": "Python 3",
   "language": "python",
   "name": "python3"
  },
  "language_info": {
   "codemirror_mode": {
    "name": "ipython",
    "version": 3
   },
   "file_extension": ".py",
   "mimetype": "text/x-python",
   "name": "python",
   "nbconvert_exporter": "python",
   "pygments_lexer": "ipython3",
   "version": "3.6.5"
  }
 },
 "nbformat": 4,
 "nbformat_minor": 2
}
